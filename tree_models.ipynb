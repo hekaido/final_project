{
 "cells": [
  {
   "cell_type": "code",
   "execution_count": 146,
   "id": "6dc84f2a-95d1-45ca-aeb2-cc7be7513042",
   "metadata": {},
   "outputs": [],
   "source": [
    "import pandas as pd\n",
    "import numpy as np\n",
    "from sklearn.model_selection import train_test_split, KFold\n",
    "from sklearn.metrics import r2_score\n",
    "from sklearn.ensemble import ExtraTreesRegressor\n",
    "from catboost import CatBoostRegressor\n",
    "import seaborn as sns\n",
    "import matplotlib.pyplot as plt\n",
    "import shap\n",
    "from copy import deepcopy\n",
    "\n",
    "from utils.preprocessing import extract_vocab, encode"
   ]
  },
  {
   "cell_type": "code",
   "execution_count": 88,
   "id": "de9958a0-06f7-4d6c-ab88-0e4cc24410a1",
   "metadata": {},
   "outputs": [],
   "source": [
    "dsc_df = pd.read_csv('data/data_dsc.csv')\n",
    "fp_df = pd.read_csv('data/data_fp.csv')\n",
    "full_df = pd.concat([dsc_df, fp_df.drop(columns=['Title', 'IC50', 'SMILES'])], axis=1).drop(columns=['Unnamed: 0'])"
   ]
  },
  {
   "cell_type": "code",
   "execution_count": 89,
   "id": "4d095a1b-7626-45dd-80c6-101fdcffac5d",
   "metadata": {},
   "outputs": [],
   "source": [
    "strcutures = full_df['SMILES'].tolist() + full_df['Title'].tolist()\n",
    "target = full_df['IC50'].tolist()\n",
    "\n",
    "vocab, token2id, id2token = extract_vocab(strcutures)"
   ]
  },
  {
   "cell_type": "code",
   "execution_count": 90,
   "id": "bc65b343-fa2a-494b-8fd1-9fa3f4fa92d3",
   "metadata": {},
   "outputs": [
    {
     "data": {
      "text/plain": [
       "<Axes: ylabel='Count'>"
      ]
     },
     "execution_count": 90,
     "metadata": {},
     "output_type": "execute_result"
    },
    {
     "data": {
      "image/png": "[encoded data removed]",
      "text/plain": [
       "<Figure size 640x480 with 1 Axes>"
      ]
     },
     "metadata": {},
     "output_type": "display_data"
    }
   ],
   "source": [
    "sns.histplot(target)"
   ]
  },
  {
   "cell_type": "code",
   "execution_count": 91,
   "id": "6a7d4da3-e361-42c7-9207-5a76331fcd7d",
   "metadata": {},
   "outputs": [],
   "source": [
    "def pad_list(lst, max_length):\n",
    "    return lst + [0] * (max_length - len(lst))\n",
    "\n",
    "full_df['Title'] = full_df['Title'].apply(lambda x: list(encode(x, vocab, token2id)))\n",
    "full_df['SMILES'] = full_df['SMILES'].apply(lambda x: list(encode(x, vocab, token2id)))\n",
    "\n",
    "max_title_length = max(full_df['Title'].apply(len))\n",
    "max_smiles_length = max(full_df['SMILES'].apply(len))\n",
    "full_df['Title'] = full_df['Title'].apply(lambda x: pad_list(x, max_title_length))\n",
    "full_df['SMILES'] = full_df['SMILES'].apply(lambda x: pad_list(x, max_smiles_length))"
   ]
  },
  {
   "cell_type": "markdown",
   "id": "2374fcfe-be43-47a0-9e93-c136c4c548e9",
   "metadata": {},
   "source": [
    "## Boostings"
   ]
  },
  {
   "cell_type": "code",
   "execution_count": 92,
   "id": "afef7d0f-46dc-44b1-b654-09b2be75abcc",
   "metadata": {},
   "outputs": [],
   "source": [
    "X_train, X_test, y_train, y_test = train_test_split(full_df.drop(columns=['IC50']), full_df['IC50'], test_size=0.2, random_state=42)"
   ]
  },
  {
   "cell_type": "code",
   "execution_count": 93,
   "id": "5b45ee4a-de4d-44fe-9b99-3537902b983c",
   "metadata": {},
   "outputs": [],
   "source": [
    "model = CatBoostRegressor(iterations=5000,\n",
    "                          eval_metric='R2',\n",
    "                          loss_function='MAE',\n",
    "                          verbose=False,\n",
    "                          depth=2)"
   ]
  },
  {
   "cell_type": "code",
   "execution_count": 94,
   "id": "e0daea23-dbea-4fae-b530-cb4f8718b4a7",
   "metadata": {
    "scrolled": true
   },
   "outputs": [
    {
     "data": {
      "text/plain": [
       "<catboost.core.CatBoostRegressor at 0x16700c7d0>"
      ]
     },
     "execution_count": 94,
     "metadata": {},
     "output_type": "execute_result"
    }
   ],
   "source": [
    "model.fit(X_train,\n",
    "    y_train,\n",
    "    embedding_features=['Title', 'SMILES'],\n",
    "    use_best_model=True,\n",
    "    eval_set=(X_test, y_test),\n",
    " )"
   ]
  },
  {
   "cell_type": "code",
   "execution_count": 95,
   "id": "c01411a4-a053-463a-8236-8e496078bb25",
   "metadata": {},
   "outputs": [],
   "source": [
    "y_preds = model.predict(X_test)"
   ]
  },
  {
   "cell_type": "code",
   "execution_count": 96,
   "id": "e825d49a-eb97-4f42-a621-6cdf789e5d3e",
   "metadata": {},
   "outputs": [
    {
     "name": "stdout",
     "output_type": "stream",
     "text": [
      "0.023394720867005225\n"
     ]
    }
   ],
   "source": [
    "print(r2_score(y_test, y_preds))"
   ]
  },
  {
   "cell_type": "markdown",
   "id": "962a4099-f003-4cc8-8cc8-da1917b8310c",
   "metadata": {},
   "source": [
    "## Boosting without emb features to understand feature importance"
   ]
  },
  {
   "cell_type": "code",
   "execution_count": 112,
   "id": "b77690a1-456d-462f-942f-1155845c8eed",
   "metadata": {},
   "outputs": [],
   "source": [
    "full_df['random'] = np.random.rand(full_df.shape[0], 1)"
   ]
  },
  {
   "cell_type": "code",
   "execution_count": 114,
   "id": "bef6a0ab-4adb-409f-9544-6ae2f4fa6b09",
   "metadata": {},
   "outputs": [],
   "source": [
    "X_train, X_test, y_train, y_test = train_test_split(full_df.drop(columns=['IC50', 'Title', 'SMILES']), full_df['IC50'], test_size=0.2, random_state=42)"
   ]
  },
  {
   "cell_type": "code",
   "execution_count": 115,
   "id": "ad9ecf37-e9ed-42ca-94fd-01e669065fb4",
   "metadata": {},
   "outputs": [],
   "source": [
    "model = CatBoostRegressor(iterations=5000,\n",
    "                          eval_metric='R2',\n",
    "                          loss_function='MAE',\n",
    "                          verbose=False,\n",
    "                          depth=2)"
   ]
  },
  {
   "cell_type": "code",
   "execution_count": 116,
   "id": "b80f65e8-52b4-41f2-8b8e-98ef67032e08",
   "metadata": {},
   "outputs": [
    {
     "data": {
      "text/plain": [
       "<catboost.core.CatBoostRegressor at 0x295b0e9d0>"
      ]
     },
     "execution_count": 116,
     "metadata": {},
     "output_type": "execute_result"
    }
   ],
   "source": [
    "model.fit(X_train,\n",
    "    y_train,\n",
    "    # embedding_features=['Title', 'SMILES'],\n",
    "    use_best_model=True,\n",
    "    eval_set=(X_test, y_test),\n",
    " )"
   ]
  },
  {
   "cell_type": "code",
   "execution_count": 117,
   "id": "ea06108e-90eb-44ef-bea2-92d0902cd38b",
   "metadata": {},
   "outputs": [],
   "source": [
    "y_preds = model.predict(X_test)"
   ]
  },
  {
   "cell_type": "code",
   "execution_count": 118,
   "id": "a29d1ba1-b1f4-4d50-9925-9ab6f94356bb",
   "metadata": {},
   "outputs": [
    {
     "name": "stdout",
     "output_type": "stream",
     "text": [
      "0.00874064246138373\n"
     ]
    }
   ],
   "source": [
    "print(r2_score(y_test, y_preds))"
   ]
  },
  {
   "cell_type": "code",
   "execution_count": 119,
   "id": "bc98f424-34fb-4553-822e-cf53631024b1",
   "metadata": {},
   "outputs": [
    {
     "data": {
      "text/plain": [
       "Text(0.5, 1.0, 'Feature Importance')"
      ]
     },
     "execution_count": 119,
     "metadata": {},
     "output_type": "execute_result"
    },
    {
     "data": {
      "image/png": "[encoded data removed]",
      "text/plain": [
       "<Figure size 1500x1000 with 1 Axes>"
      ]
     },
     "metadata": {},
     "output_type": "display_data"
    }
   ],
   "source": [
    "feature_importance = model.feature_importances_\n",
    "sorted_idx = np.argsort(feature_importance)\n",
    "fig = plt.figure(figsize=(15, 10))\n",
    "plt.barh(range(len(sorted_idx)), feature_importance[sorted_idx], align='center')\n",
    "plt.yticks(range(len(sorted_idx)), np.array(X_test.columns)[sorted_idx])\n",
    "plt.title('Feature Importance')"
   ]
  },
  {
   "cell_type": "code",
   "execution_count": 120,
   "id": "8a267a58-f30e-437a-b1df-e6bf2756d739",
   "metadata": {},
   "outputs": [],
   "source": [
    "f_i = pd.DataFrame({'feature_importance' : feature_importance[sorted_idx], \n",
    "                    'column': np.array(X_test.columns)[sorted_idx]})\n",
    "rand = f_i[f_i['column'] == 'random']['feature_importance'].values.item()\n",
    "columns_to_drop = list(f_i[f_i['feature_importance'] <= rand].column.values)"
   ]
  },
  {
   "cell_type": "code",
   "execution_count": 122,
   "id": "075e2682-0ef8-423d-881b-41115cd76a8d",
   "metadata": {},
   "outputs": [
    {
     "name": "stdout",
     "output_type": "stream",
     "text": [
      "1788\n"
     ]
    }
   ],
   "source": [
    "print(len(columns_to_drop))"
   ]
  },
  {
   "cell_type": "code",
   "execution_count": 121,
   "id": "f2f9393f-4613-4aef-bd2d-9949d6605b32",
   "metadata": {},
   "outputs": [],
   "source": [
    "full_df = full_df.drop(columns=['random'])"
   ]
  },
  {
   "cell_type": "markdown",
   "id": "a534fb31-8625-468f-9d01-5457e5ef3284",
   "metadata": {},
   "source": [
    "## Boostings with target filtering"
   ]
  },
  {
   "cell_type": "code",
   "execution_count": 123,
   "id": "07e089ff-dfb5-44ed-8844-e2e9dcfbc8c0",
   "metadata": {},
   "outputs": [],
   "source": [
    "full_df = full_df[full_df['IC50'] <= np.percentile(full_df['IC50'], 99)]\n",
    "X_train, X_test, y_train, y_test = train_test_split(full_df.drop(columns=['IC50']), full_df['IC50'], test_size=0.2, random_state=42)"
   ]
  },
  {
   "cell_type": "code",
   "execution_count": 124,
   "id": "459c05ba-9c35-48d7-9628-d1f477759ea7",
   "metadata": {},
   "outputs": [
    {
     "data": {
      "text/plain": [
       "(36013, 2066)"
      ]
     },
     "execution_count": 124,
     "metadata": {},
     "output_type": "execute_result"
    }
   ],
   "source": [
    "full_df.shape"
   ]
  },
  {
   "cell_type": "code",
   "execution_count": 125,
   "id": "de961f4e-77ee-4b9b-bbbe-2a969cd14e1f",
   "metadata": {},
   "outputs": [
    {
     "data": {
      "text/plain": [
       "<Axes: xlabel='IC50', ylabel='Count'>"
      ]
     },
     "execution_count": 125,
     "metadata": {},
     "output_type": "execute_result"
    },
    {
     "data": {
      "image/png": "[encoded data removed]",
      "text/plain": [
       "<Figure size 640x480 with 1 Axes>"
      ]
     },
     "metadata": {},
     "output_type": "display_data"
    }
   ],
   "source": [
    "sns.histplot(full_df['IC50'])"
   ]
  },
  {
   "cell_type": "code",
   "execution_count": 126,
   "id": "f1c69cb7-9701-49d3-a677-cfd973eade3d",
   "metadata": {},
   "outputs": [],
   "source": [
    "model = CatBoostRegressor(iterations=5000,\n",
    "                          eval_metric='R2',\n",
    "                          loss_function='MAE',\n",
    "                          verbose=False,\n",
    "                          depth=2)"
   ]
  },
  {
   "cell_type": "code",
   "execution_count": 127,
   "id": "ac0f1724-920b-40df-9cec-8498ebbf34f6",
   "metadata": {},
   "outputs": [
    {
     "data": {
      "text/plain": [
       "<catboost.core.CatBoostRegressor at 0x331e83390>"
      ]
     },
     "execution_count": 127,
     "metadata": {},
     "output_type": "execute_result"
    }
   ],
   "source": [
    "model.fit(X_train,\n",
    "    y_train,\n",
    "    embedding_features=['Title', 'SMILES'],\n",
    "    use_best_model=True,\n",
    "    eval_set=(X_test, y_test),\n",
    " )"
   ]
  },
  {
   "cell_type": "code",
   "execution_count": 128,
   "id": "8e7efc9f-bd62-48f9-a603-4382e5532eb1",
   "metadata": {},
   "outputs": [],
   "source": [
    "y_preds = model.predict(X_test)"
   ]
  },
  {
   "cell_type": "code",
   "execution_count": 129,
   "id": "1ced3c2f-5dad-4dcf-b455-7a328e109c9b",
   "metadata": {},
   "outputs": [
    {
     "name": "stdout",
     "output_type": "stream",
     "text": [
      "0.1675800410587125\n"
     ]
    }
   ],
   "source": [
    "print(r2_score(y_test, y_preds))"
   ]
  },
  {
   "cell_type": "markdown",
   "id": "1b85a23d-4d92-43da-8d92-61581cb190e6",
   "metadata": {},
   "source": [
    "## Boosting with target filtering + feature importance"
   ]
  },
  {
   "cell_type": "code",
   "execution_count": 131,
   "id": "94adea67-a8e7-4030-8a8f-6a0346de3e64",
   "metadata": {},
   "outputs": [],
   "source": [
    "columns_to_drop.remove('random')\n",
    "X_train, X_test, y_train, y_test = train_test_split(full_df.drop(columns=['IC50']+columns_to_drop), full_df['IC50'], test_size=0.2, random_state=42)"
   ]
  },
  {
   "cell_type": "code",
   "execution_count": 132,
   "id": "d4d85575-4a2d-474d-8f39-7cae556f013c",
   "metadata": {},
   "outputs": [],
   "source": [
    "model = CatBoostRegressor(iterations=5000,\n",
    "                          eval_metric='R2',\n",
    "                          loss_function='MAE',\n",
    "                          verbose=False,\n",
    "                          depth=2)"
   ]
  },
  {
   "cell_type": "code",
   "execution_count": 133,
   "id": "a1bddee8-085e-4f36-a569-27f4a8921799",
   "metadata": {},
   "outputs": [
    {
     "data": {
      "text/plain": [
       "<catboost.core.CatBoostRegressor at 0x35dcf6050>"
      ]
     },
     "execution_count": 133,
     "metadata": {},
     "output_type": "execute_result"
    }
   ],
   "source": [
    "model.fit(X_train,\n",
    "    y_train,\n",
    "    embedding_features=['Title', 'SMILES'],\n",
    "    use_best_model=True,\n",
    "    eval_set=(X_test, y_test),\n",
    " )"
   ]
  },
  {
   "cell_type": "code",
   "execution_count": 134,
   "id": "11a24c61-91cc-4b72-8c50-9346a3b74db7",
   "metadata": {},
   "outputs": [],
   "source": [
    "y_preds = model.predict(X_test)"
   ]
  },
  {
   "cell_type": "code",
   "execution_count": 135,
   "id": "6508fcb9-716a-439c-8a19-83446146d9b7",
   "metadata": {},
   "outputs": [
    {
     "name": "stdout",
     "output_type": "stream",
     "text": [
      "0.23060515613061738\n"
     ]
    }
   ],
   "source": [
    "print(r2_score(y_test, y_preds))"
   ]
  },
  {
   "cell_type": "markdown",
   "id": "ef7d5095-b633-41f5-b7a8-decbac7548d0",
   "metadata": {},
   "source": [
    "## Cross-validation with catboost"
   ]
  },
  {
   "cell_type": "code",
   "execution_count": 144,
   "id": "040a901b-ae7e-4081-9ac6-5acaf5b9c278",
   "metadata": {},
   "outputs": [],
   "source": [
    "def cross_val_rf(model, data, labels, n_splits):\n",
    "    kfold = KFold(n_splits=n_splits, shuffle=True)\n",
    "    scores = []\n",
    "    for fold, (train_ids, test_ids) in enumerate(kfold.split(data)):\n",
    "        fold_model = deepcopy(model)\n",
    "        fold_model.fit( data.iloc[train_ids],\n",
    "                        labels.iloc[train_ids],\n",
    "                        embedding_features=['Title', 'SMILES'],\n",
    "                        use_best_model=True,\n",
    "                       )      \n",
    "\n",
    "        r2_test = r2_score(labels.iloc[test_ids], fold_model.predict(data.iloc[test_ids]))\n",
    "        scores.append(r2_test)\n",
    "        print(f'Fold: {fold} Eval_metric: {r2_test}')\n",
    "    return np.array(scores)"
   ]
  },
  {
   "cell_type": "code",
   "execution_count": 145,
   "id": "85b9c044-6bae-4ddf-b02b-2fb58d3ed171",
   "metadata": {},
   "outputs": [
    {
     "name": "stderr",
     "output_type": "stream",
     "text": [
      "You should provide test set for use best model. use_best_model parameter has been switched to false value.\n"
     ]
    },
    {
     "name": "stdout",
     "output_type": "stream",
     "text": [
      "Fold: 0 Eval_metric: -2.5524809314498036\n"
     ]
    },
    {
     "name": "stderr",
     "output_type": "stream",
     "text": [
      "You should provide test set for use best model. use_best_model parameter has been switched to false value.\n"
     ]
    },
    {
     "name": "stdout",
     "output_type": "stream",
     "text": [
      "Fold: 1 Eval_metric: -2.584482006123642\n"
     ]
    },
    {
     "name": "stderr",
     "output_type": "stream",
     "text": [
      "You should provide test set for use best model. use_best_model parameter has been switched to false value.\n"
     ]
    },
    {
     "name": "stdout",
     "output_type": "stream",
     "text": [
      "Fold: 2 Eval_metric: -2.875553675614615\n"
     ]
    },
    {
     "name": "stderr",
     "output_type": "stream",
     "text": [
      "You should provide test set for use best model. use_best_model parameter has been switched to false value.\n"
     ]
    },
    {
     "name": "stdout",
     "output_type": "stream",
     "text": [
      "Fold: 3 Eval_metric: -2.617441132575282\n"
     ]
    },
    {
     "name": "stderr",
     "output_type": "stream",
     "text": [
      "You should provide test set for use best model. use_best_model parameter has been switched to false value.\n"
     ]
    },
    {
     "name": "stdout",
     "output_type": "stream",
     "text": [
      "Fold: 4 Eval_metric: -2.001095544346014\n"
     ]
    },
    {
     "data": {
      "text/plain": [
       "array([-2.55248093, -2.58448201, -2.87555368, -2.61744113, -2.00109554])"
      ]
     },
     "execution_count": 145,
     "metadata": {},
     "output_type": "execute_result"
    }
   ],
   "source": [
    "model = CatBoostRegressor(iterations=5000,\n",
    "                          eval_metric='R2',\n",
    "                          loss_function='MAE',\n",
    "                          verbose=False,\n",
    "                          depth=2)\n",
    "data = full_df.drop(columns=['IC50']+columns_to_drop)\n",
    "labels = full_df['IC50']\n",
    "cross_val_rf(model, data, labels, 5)"
   ]
  },
  {
   "cell_type": "markdown",
   "id": "f74ef2f5-c597-404b-ac41-b883a1267b19",
   "metadata": {},
   "source": [
    "## Extra Trees without embedding features"
   ]
  },
  {
   "cell_type": "code",
   "execution_count": 149,
   "id": "a4c69f27-add0-4d1c-ba6e-0cd797324d5a",
   "metadata": {},
   "outputs": [
    {
     "data": {
      "text/html": [
       "<style>#sk-container-id-1 {color: black;}#sk-container-id-1 pre{padding: 0;}#sk-container-id-1 div.sk-toggleable {background-color: white;}#sk-container-id-1 label.sk-toggleable__label {cursor: pointer;display: block;width: 100%;margin-bottom: 0;padding: 0.3em;box-sizing: border-box;text-align: center;}#sk-container-id-1 label.sk-toggleable__label-arrow:before {content: \"▸\";float: left;margin-right: 0.25em;color: #696969;}#sk-container-id-1 label.sk-toggleable__label-arrow:hover:before {color: black;}#sk-container-id-1 div.sk-estimator:hover label.sk-toggleable__label-arrow:before {color: black;}#sk-container-id-1 div.sk-toggleable__content {max-height: 0;max-width: 0;overflow: hidden;text-align: left;background-color: #f0f8ff;}#sk-container-id-1 div.sk-toggleable__content pre {margin: 0.2em;color: black;border-radius: 0.25em;background-color: #f0f8ff;}#sk-container-id-1 input.sk-toggleable__control:checked~div.sk-toggleable__content {max-height: 200px;max-width: 100%;overflow: auto;}#sk-container-id-1 input.sk-toggleable__control:checked~label.sk-toggleable__label-arrow:before {content: \"▾\";}#sk-container-id-1 div.sk-estimator input.sk-toggleable__control:checked~label.sk-toggleable__label {background-color: #d4ebff;}#sk-container-id-1 div.sk-label input.sk-toggleable__control:checked~label.sk-toggleable__label {background-color: #d4ebff;}#sk-container-id-1 input.sk-hidden--visually {border: 0;clip: rect(1px 1px 1px 1px);clip: rect(1px, 1px, 1px, 1px);height: 1px;margin: -1px;overflow: hidden;padding: 0;position: absolute;width: 1px;}#sk-container-id-1 div.sk-estimator {font-family: monospace;background-color: #f0f8ff;border: 1px dotted black;border-radius: 0.25em;box-sizing: border-box;margin-bottom: 0.5em;}#sk-container-id-1 div.sk-estimator:hover {background-color: #d4ebff;}#sk-container-id-1 div.sk-parallel-item::after {content: \"\";width: 100%;border-bottom: 1px solid gray;flex-grow: 1;}#sk-container-id-1 div.sk-label:hover label.sk-toggleable__label {background-color: #d4ebff;}#sk-container-id-1 div.sk-serial::before {content: \"\";position: absolute;border-left: 1px solid gray;box-sizing: border-box;top: 0;bottom: 0;left: 50%;z-index: 0;}#sk-container-id-1 div.sk-serial {display: flex;flex-direction: column;align-items: center;background-color: white;padding-right: 0.2em;padding-left: 0.2em;position: relative;}#sk-container-id-1 div.sk-item {position: relative;z-index: 1;}#sk-container-id-1 div.sk-parallel {display: flex;align-items: stretch;justify-content: center;background-color: white;position: relative;}#sk-container-id-1 div.sk-item::before, #sk-container-id-1 div.sk-parallel-item::before {content: \"\";position: absolute;border-left: 1px solid gray;box-sizing: border-box;top: 0;bottom: 0;left: 50%;z-index: -1;}#sk-container-id-1 div.sk-parallel-item {display: flex;flex-direction: column;z-index: 1;position: relative;background-color: white;}#sk-container-id-1 div.sk-parallel-item:first-child::after {align-self: flex-end;width: 50%;}#sk-container-id-1 div.sk-parallel-item:last-child::after {align-self: flex-start;width: 50%;}#sk-container-id-1 div.sk-parallel-item:only-child::after {width: 0;}#sk-container-id-1 div.sk-dashed-wrapped {border: 1px dashed gray;margin: 0 0.4em 0.5em 0.4em;box-sizing: border-box;padding-bottom: 0.4em;background-color: white;}#sk-container-id-1 div.sk-label label {font-family: monospace;font-weight: bold;display: inline-block;line-height: 1.2em;}#sk-container-id-1 div.sk-label-container {text-align: center;}#sk-container-id-1 div.sk-container {/* jupyter's `normalize.less` sets `[hidden] { display: none; }` but bootstrap.min.css set `[hidden] { display: none !important; }` so we also need the `!important` here to be able to override the default hidden behavior on the sphinx rendered scikit-learn.org. See: https://github.com/scikit-learn/scikit-learn/issues/21755 */display: inline-block !important;position: relative;}#sk-container-id-1 div.sk-text-repr-fallback {display: none;}</style><div id=\"sk-container-id-1\" class=\"sk-top-container\"><div class=\"sk-text-repr-fallback\"><pre>ExtraTreesRegressor()</pre><b>In a Jupyter environment, please rerun this cell to show the HTML representation or trust the notebook. <br />On GitHub, the HTML representation is unable to render, please try loading this page with nbviewer.org.</b></div><div class=\"sk-container\" hidden><div class=\"sk-item\"><div class=\"sk-estimator sk-toggleable\"><input class=\"sk-toggleable__control sk-hidden--visually\" id=\"sk-estimator-id-1\" type=\"checkbox\" checked><label for=\"sk-estimator-id-1\" class=\"sk-toggleable__label sk-toggleable__label-arrow\">ExtraTreesRegressor</label><div class=\"sk-toggleable__content\"><pre>ExtraTreesRegressor()</pre></div></div></div></div></div>"
      ],
      "text/plain": [
       "ExtraTreesRegressor()"
      ]
     },
     "execution_count": 149,
     "metadata": {},
     "output_type": "execute_result"
    }
   ],
   "source": [
    "etr = ExtraTreesRegressor(criterion='squared_error')\n",
    "etr.fit(X_train.drop(columns=['Title', 'SMILES']), y_train)"
   ]
  },
  {
   "cell_type": "code",
   "execution_count": 153,
   "id": "6d85d714-e751-4e10-84bb-bc2b65801d4e",
   "metadata": {},
   "outputs": [
    {
     "name": "stdout",
     "output_type": "stream",
     "text": [
      "0.34979764294350657\n"
     ]
    }
   ],
   "source": [
    "y_preds = etr.predict(X_test.drop(columns=['Title', 'SMILES']))\n",
    "print(r2_score(y_test, y_preds))"
   ]
  },
  {
   "cell_type": "code",
   "execution_count": null,
   "id": "6b73e710-93db-4ac3-8443-34328a8d5d7d",
   "metadata": {},
   "outputs": [],
   "source": []
  }
 ],
 "metadata": {
  "kernelspec": {
   "display_name": "Python 3 (ipykernel)",
   "language": "python",
   "name": "python3"
  },
  "language_info": {
   "codemirror_mode": {
    "name": "ipython",
    "version": 3
   },
   "file_extension": ".py",
   "mimetype": "text/x-python",
   "name": "python",
   "nbconvert_exporter": "python",
   "pygments_lexer": "ipython3",
   "version": "3.11.4"
  }
 },
 "nbformat": 4,
 "nbformat_minor": 5
}
